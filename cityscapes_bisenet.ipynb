{
  "nbformat": 4,
  "nbformat_minor": 0,
  "metadata": {
    "colab": {
      "provenance": [],
      "authorship_tag": "ABX9TyMDsApS0XH7PT1xkZrl0JAR",
      "include_colab_link": true
    },
    "kernelspec": {
      "name": "python3",
      "display_name": "Python 3"
    },
    "language_info": {
      "name": "python"
    }
  },
  "cells": [
    {
      "cell_type": "markdown",
      "metadata": {
        "id": "view-in-github",
        "colab_type": "text"
      },
      "source": [
        "<a href=\"https://colab.research.google.com/github/YaldaMobargha/-AVR-Code-to-Control-an-Elevator-ATmega32-/blob/main/cityscapes_bisenet.ipynb\" target=\"_parent\"><img src=\"https://colab.research.google.com/assets/colab-badge.svg\" alt=\"Open In Colab\"/></a>"
      ]
    },
    {
      "cell_type": "code",
      "source": [],
      "metadata": {
        "colab": {
          "base_uri": "https://localhost:8080/"
        },
        "id": "F4rBa-fDLUKk",
        "outputId": "006b7aa8-1e8b-4943-dc04-3582fdd450c5"
      },
      "execution_count": null,
      "outputs": [
        {
          "output_type": "stream",
          "name": "stdout",
          "text": [
            "Cloning into 'BiseNetv1'...\n",
            "remote: Enumerating objects: 122, done.\u001b[K\n",
            "remote: Counting objects: 100% (59/59), done.\u001b[K\n",
            "remote: Compressing objects: 100% (19/19), done.\u001b[K\n",
            "remote: Total 122 (delta 43), reused 40 (delta 40), pack-reused 63\u001b[K\n",
            "Receiving objects: 100% (122/122), 29.82 KiB | 3.31 MiB/s, done.\n",
            "Resolving deltas: 100% (58/58), done.\n",
            "/content/BiseNetv1\n"
          ]
        }
      ]
    },
    {
      "cell_type": "code",
      "source": [
        "!python train.py\n"
      ],
      "metadata": {
        "colab": {
          "base_uri": "https://localhost:8080/"
        },
        "id": "5HR46PN5RoW0",
        "outputId": "f29eed79-d784-46ee-a7e1-4b5b504d3bcb"
      },
      "execution_count": null,
      "outputs": [
        {
          "output_type": "stream",
          "name": "stdout",
          "text": [
            "Traceback (most recent call last):\n",
            "  File \"/content/BiseNetv1/train.py\", line 5, in <module>\n",
            "    from dataset.IDDA import IDDA\n",
            "  File \"/content/BiseNetv1/dataset/IDDA.py\", line 8, in <module>\n",
            "    from CamVid import augmentation, augmentation_pixel\n",
            "ModuleNotFoundError: No module named 'CamVid'\n"
          ]
        }
      ]
    }
  ]
}